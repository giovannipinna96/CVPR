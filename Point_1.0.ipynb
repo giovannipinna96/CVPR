{
 "cells": [
  {
   "cell_type": "markdown",
   "metadata": {},
   "source": [
    "Importo tutte le librerie necessarie"
   ]
  },
  {
   "cell_type": "code",
   "execution_count": 23,
   "metadata": {},
   "outputs": [],
   "source": [
    "import os\n",
    "import numpy as np\n",
    "import pandas as pd\n",
    "import matplotlib.pyplot as plt; \n",
    "\n",
    "\n",
    "from sklearn.metrics import confusion_matrix, accuracy_score\n",
    " \n",
    "\n",
    "from keras.utils import to_categorical #to create dummy variable\n",
    "from keras.utils import np_utils\n",
    "from keras.models import Sequential\n",
    "from keras.applications import VGG16\n",
    "from keras.applications import imagenet_utils\n",
    "from keras.callbacks import ModelCheckpoint\n",
    "from keras.preprocessing.image import load_img\n",
    "from keras.preprocessing.image import img_to_array\n",
    "from keras.layers import Dense, Conv2D, MaxPooling2D\n",
    "from keras.layers import Dropout, Flatten, GlobalAveragePooling2D\n",
    "import time\n",
    "\n",
    "import PIL\n",
    "import os\n",
    "import cv2\n",
    "import itertools\n",
    "import glob\n",
    "\n",
    "from sklearn.svm import SVC\n",
    "\n",
    "import warnings \n",
    "warnings.filterwarnings('ignore')"
   ]
  },
  {
   "cell_type": "markdown",
   "metadata": {},
   "source": [
    "Definisco la funzione per prelevare le immagini e creare il dataset\n"
   ]
  },
  {
   "cell_type": "code",
   "execution_count": 24,
   "metadata": {},
   "outputs": [],
   "source": [
    "def read_image_from(path, label):\n",
    "    y = [] #type of image\n",
    "    x = [] #image\n",
    "\n",
    "    for idx, i in enumerate(label):\n",
    "        for im in glob.glob(path + '/' + i + '/*.jpg', recursive=True):\n",
    "            # color conversion to black and white images\n",
    "            x.append(cv2.cvtColor(cv2.imread(im), cv2.COLOR_BGR2GRAY))\n",
    "            y.append(idx)\n",
    "\n",
    "    return x, y"
   ]
  },
  {
   "cell_type": "markdown",
   "metadata": {},
   "source": [
    "Inizio a creare le variabili di lavoro"
   ]
  },
  {
   "cell_type": "code",
   "execution_count": 25,
   "metadata": {},
   "outputs": [
    {
     "name": "stdout",
     "output_type": "stream",
     "text": [
      "Classes number are:  15\n",
      "Class names:  ['Bedroom', 'Coast', 'Forest', 'Highway', 'Industrial', 'InsideCity', 'Kitchen', 'LivingRoom', 'Mountain', 'Office', 'OpenCountry', 'Store', 'Street', 'Suburb', 'TallBuilding']\n"
     ]
    }
   ],
   "source": [
    "#path to the directories [Adriano]\n",
    "PATH_TRAIN=r'C:\\Users\\adria\\Desktop\\CVPR\\Imageset\\train'\n",
    "PATH_TEST=r'C:\\Users\\adria\\Desktop\\CVPR\\Imageset\\test'\n",
    "\n",
    "#path to the directories [Giovanni]\n",
    "#PATH_TRAIN=r'C:\\Users\\adria\\Desktop\\CVPR\\Imageset\\train'\n",
    "#PATH_TEST=r'C:\\Users\\adria\\Desktop\\CVPR\\Imageset\\tes'\n",
    "\n",
    "#array of the class\n",
    "labels=[os.path.basename(i) for i in glob.glob(PATH_TRAIN + '/*', recursive=True)]\n",
    "num_classes = len(LABELS) #15\n",
    "print(\"Classes number are: \", num_classes)\n",
    "print(\"Class names: \", labels)"
   ]
  },
  {
   "cell_type": "code",
   "execution_count": 26,
   "metadata": {},
   "outputs": [
    {
     "name": "stdout",
     "output_type": "stream",
     "text": [
      "Image Dimensions :  (200, 276)\n",
      "len train x:  1500\n",
      "len test x:  2985\n",
      "len train y:  1500\n",
      "len test y:  2985\n"
     ]
    }
   ],
   "source": [
    "X_train_raw, y_train_raw = read_image_from(PATH_TRAIN, labels) #get train dataset\n",
    "X_test, y_test = read_image_from(PATH_TEST, labels) #get test dataset \n",
    "print('Image Dimensions : ',X_test[0].shape)\n",
    "print('len train x: ',len(X_train_raw))\n",
    "print('len test x: ',len(X_test))\n",
    "print('len train y: ',len(y_train_raw))\n",
    "print('len test y: ',len(y_test))"
   ]
  },
  {
   "cell_type": "code",
   "execution_count": null,
   "metadata": {},
   "outputs": [],
   "source": []
  }
 ],
 "metadata": {
  "kernelspec": {
   "display_name": "Python 3",
   "language": "python",
   "name": "python3"
  },
  "language_info": {
   "codemirror_mode": {
    "name": "ipython",
    "version": 3
   },
   "file_extension": ".py",
   "mimetype": "text/x-python",
   "name": "python",
   "nbconvert_exporter": "python",
   "pygments_lexer": "ipython3",
   "version": "3.8.5"
  }
 },
 "nbformat": 4,
 "nbformat_minor": 4
}
