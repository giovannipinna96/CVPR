{
 "cells": [
  {
   "cell_type": "markdown",
   "metadata": {},
   "source": [
    "Importo tutte le librerie necessarie"
   ]
  },
  {
   "cell_type": "code",
   "execution_count": 1,
   "metadata": {},
   "outputs": [],
   "source": [
    "#Queste dovrebbero essere tutte le librerie necessarie\n",
    "\n",
    "import numpy as np\n",
    "import os\n",
    "import glob\n",
    "import cv2 as cv2 #openCV library\n",
    "\n",
    "import keras as ks #cnn library\n",
    "#Some functionality\n",
    "from keras.models import Sequential #to create a model with layer\n",
    "#function for model creation\n",
    "from keras.layers import Dense, Conv2D, Flatten, MaxPooling2D, Activation\n",
    "from keras.callbacks import EarlyStopping #to stop training\n",
    "from sklearn.model_selection import train_test_split #to split train set\n",
    "from keras.utils import to_categorical #for create a categorical image\n",
    "\n",
    "#to plot some results\n",
    "import matplotlib.pyplot as plt\n",
    "from sklearn.metrics import classification_report, confusion_matrix\n",
    "import tensorflow as tf #For cnn\n",
    "import seaborn as sn\n",
    "\n",
    "\n",
    "#import os\n",
    "#import glob\n",
    "#import cv2 as cv2\n",
    "#import numpy as np\n",
    "#import pandas as pd\n",
    "#import matplotlib.pyplot as plt; \n",
    "#import PIL\n",
    "#import itertools\n",
    "\n",
    "\n",
    "#import keras as ks\n",
    "#from sklearn.metrics import confusion_matrix, accuracy_score\n",
    "#from sklearn.model_selection import train_test_split\n",
    "\n",
    "#from keras.utils import to_categorical, np_utils\n",
    "\n",
    "#from keras.models import Sequential\n",
    "#from keras.applications import VGG16\n",
    "#from keras.applications import imagenet_utils\n",
    "#from keras.callbacks import ModelCheckpoint. EarlyStopping\n",
    "#from keras.preprocessing.image import load_img\n",
    "#from keras.preprocessing.image import img_to_array\n",
    "#from keras.layers import Dense, Conv2D, MaxPooling2D, Dropout, Activation\n",
    "#from keras.layers import Flatten, GlobalAveragePooling2D\n",
    "\n",
    "#import time\n",
    "\n",
    "\n",
    "\n",
    "#from sklearn.svm import SVC\n",
    "\n",
    "#import warnings \n",
    "#warnings.filterwarnings('ignore')"
   ]
  },
  {
   "cell_type": "markdown",
   "metadata": {},
   "source": [
    "Definisco la funzione per prelevare le immagini e creare il dataset\n"
   ]
  },
  {
   "cell_type": "code",
   "execution_count": 2,
   "metadata": {},
   "outputs": [],
   "source": [
    "def read_image_from(path, label):\n",
    "    y = [] #type of image\n",
    "    x = [] #image\n",
    "\n",
    "    for idx, i in enumerate(label):\n",
    "        for im in glob.glob(path + '/' + i + '/*.jpg', recursive=True):\n",
    "            # color conversion to black and white images\n",
    "            x.append(cv2.cvtColor(cv2.imread(im), cv2.COLOR_BGR2GRAY))\n",
    "            y.append(idx)\n",
    "\n",
    "    return x, y"
   ]
  },
  {
   "cell_type": "code",
   "execution_count": 3,
   "metadata": {},
   "outputs": [],
   "source": [
    "def reshape_image(x, width, height, channel):\n",
    "    # Using anisotropic rescaling, resize the images to 64x64 in order to feed them to the network\n",
    "    x = np.array([cv2.resize(im, (width, height), interpolation=cv2.INTER_AREA) for im in x])\n",
    "    x = np.array([np.reshape(im, (width, height, channel)) for im in x]) #per rendere l'array nuovamente conitnuo\n",
    "\n",
    "    # normalize the images\n",
    "    x = x / 255\n",
    "\n",
    "    return x"
   ]
  },
  {
   "cell_type": "markdown",
   "metadata": {},
   "source": [
    "Inizio a creare le variabili di lavoro"
   ]
  },
  {
   "cell_type": "code",
   "execution_count": 4,
   "metadata": {},
   "outputs": [
    {
     "name": "stdout",
     "output_type": "stream",
     "text": [
      "Classes number are:  15\n",
      "Class names:  ['Bedroom', 'Coast', 'Forest', 'Highway', 'Industrial', 'InsideCity', 'Kitchen', 'LivingRoom', 'Mountain', 'Office', 'OpenCountry', 'Store', 'Street', 'Suburb', 'TallBuilding']\n"
     ]
    }
   ],
   "source": [
    "#path to the directories [Adriano]\n",
    "PATH_TRAIN=r'C:\\Users\\adria\\Desktop\\CVPR\\Imageset\\train'\n",
    "PATH_TEST=r'C:\\Users\\adria\\Desktop\\CVPR\\Imageset\\test'\n",
    "\n",
    "#path to the directories [Giovanni]\n",
    "#PATH_TRAIN=r'C:\\Users\\adria\\Desktop\\CVPR\\Imageset\\train'\n",
    "#PATH_TEST=r'C:\\Users\\adria\\Desktop\\CVPR\\Imageset\\tes'\n",
    "\n",
    "#array of the class\n",
    "labels=[os.path.basename(i) for i in glob.glob(PATH_TRAIN + '/*', recursive=True)]\n",
    "num_classes = len(labels) #15\n",
    "print(\"Classes number are: \", num_classes)\n",
    "print(\"Class names: \", labels)\n",
    "#all labels are correct"
   ]
  },
  {
   "cell_type": "code",
   "execution_count": 5,
   "metadata": {},
   "outputs": [
    {
     "name": "stdout",
     "output_type": "stream",
     "text": [
      "Image Dimensions :  (200, 276)\n",
      "len train x:  1500\n",
      "len test x:  2985\n",
      "len train y:  1500\n",
      "len test y:  2985\n"
     ]
    }
   ],
   "source": [
    "X_train_raw, y_train_raw = read_image_from(PATH_TRAIN, labels) #get train dataset\n",
    "X_test, y_test = read_image_from(PATH_TEST, labels) #get test dataset \n",
    "print('Image Dimensions : ',X_test[0].shape)\n",
    "print('len train x: ',len(X_train_raw))\n",
    "print('len test x: ',len(X_test))\n",
    "print('len train y: ',len(y_train_raw))\n",
    "print('len test y: ',len(y_test))"
   ]
  },
  {
   "cell_type": "code",
   "execution_count": 6,
   "metadata": {},
   "outputs": [],
   "source": [
    "#test if the images has been read\n",
    "cv2.imshow(\"Immagine iniziale\", X_train_raw[0])\n",
    "#without this command the imageshow crash\n",
    "cv2.waitKey(0)\n",
    "cv2.destroyAllWindows() "
   ]
  },
  {
   "cell_type": "markdown",
   "metadata": {},
   "source": [
    "Asintropic reduction of images"
   ]
  },
  {
   "cell_type": "code",
   "execution_count": 7,
   "metadata": {},
   "outputs": [
    {
     "name": "stdout",
     "output_type": "stream",
     "text": [
      "Reshaped image\n"
     ]
    }
   ],
   "source": [
    "X_train_raw = reshape_image(X_train_raw, width = 64, height = 64, channel = 1)\n",
    "X_test = reshape_image(X_test, width = 64, height = 64, channel = 1)\n",
    "print(\"Reshaped image\")"
   ]
  },
  {
   "cell_type": "code",
   "execution_count": 8,
   "metadata": {},
   "outputs": [
    {
     "name": "stdout",
     "output_type": "stream",
     "text": [
      "Now y is:  [[1. 0. 0. ... 0. 0. 0.]\n",
      " [1. 0. 0. ... 0. 0. 0.]\n",
      " [1. 0. 0. ... 0. 0. 0.]\n",
      " ...\n",
      " [0. 0. 0. ... 0. 0. 1.]\n",
      " [0. 0. 0. ... 0. 0. 1.]\n",
      " [0. 0. 0. ... 0. 0. 1.]]\n"
     ]
    }
   ],
   "source": [
    "#keras functionality \n",
    "y_train_one_hot = to_categorical(y_train_raw) #from vector to binary class matrix\n",
    "y_test_one_hot = to_categorical(y_test)\n",
    "print(\"Now y is: \", y_train_one_hot)"
   ]
  },
  {
   "cell_type": "markdown",
   "metadata": {},
   "source": [
    "Create a new dataset"
   ]
  },
  {
   "cell_type": "code",
   "execution_count": 9,
   "metadata": {},
   "outputs": [
    {
     "name": "stdout",
     "output_type": "stream",
     "text": [
      "Train set dimintion:  1275\n",
      "Validation set dimintion:  225\n",
      "Test set dimintion:  2985\n"
     ]
    }
   ],
   "source": [
    "#using sklearn.model function to split training set between train 85% and validation set 15%\n",
    "X_train, X_validation, y_train, y_validation = train_test_split(\n",
    "    X_train_raw, y_train_one_hot, train_size=0.85, random_state=42)\n",
    "print('Train set dimintion: ',len(X_train))\n",
    "print('Validation set dimintion: ',len(X_validation))\n",
    "print('Test set dimintion: ',len(X_test))"
   ]
  },
  {
   "cell_type": "markdown",
   "metadata": {},
   "source": [
    "Model Definition and Model Training"
   ]
  },
  {
   "cell_type": "code",
   "execution_count": 10,
   "metadata": {},
   "outputs": [],
   "source": [
    "#necessario randomizzare, ottimizzare, creare il modello con sequential \n",
    "#ed inserire le vaire matrici di convoluzione\n",
    "\n",
    "#keras.initializers.RandomNormal = inizializza e genera un tensor con distribuuzione normale\n",
    "#      -mean, standard deviation, seed\n",
    "\n",
    "#keras.optimizers.SGD = Crea un gradiente discendente ottimizzato\n",
    "#      -learning_rate, momento = accellerazione della discesa, \n",
    "#      -nasterov = valore per il momento, nome = nome opzionale per il gradiente\n",
    "#      -**kwargss = parole chiavi per gli argomenti\n",
    "\n",
    "#keras.Sequential() = ragruppa i layers in un modello, possiamo inserire una\n",
    "#   lista di layer al proprio interno o utilizzare la funzione .add. Possiamo\n",
    "#   assegnare un nome al modello\n",
    "#mkeras.model.compile = dal gruppo di layer in un oggetto\n",
    "\n",
    "\n",
    "#For Sequential model we need:\n",
    "#-Conv2D = for convolution layer. This layer creates a convolution kernel \n",
    "#     that is convolved with the layer input to produce a tensor of output. \n",
    "#     For use it we need a resharp of images\n",
    "#\n",
    "#-MaxPooling2D = downsamples the input representation by taking the maximum value \n",
    "#     over the window defined by pool_size.\n",
    "\n"
   ]
  },
  {
   "cell_type": "code",
   "execution_count": 11,
   "metadata": {},
   "outputs": [],
   "source": [
    "#normalizzazione e ottimizzazione del modello\n",
    "norm = ks.initializers.RandomNormal(mean=0.0, stddev=0.01, seed=None)\n",
    "stochastic_gradient = ks.optimizers.SGD(momentum=0.9, nesterov=True)"
   ]
  },
  {
   "cell_type": "code",
   "execution_count": 12,
   "metadata": {},
   "outputs": [
    {
     "name": "stdout",
     "output_type": "stream",
     "text": [
      "Model summary\n",
      "Model: \"sequential\"\n",
      "_________________________________________________________________\n",
      "Layer (type)                 Output Shape              Param #   \n",
      "=================================================================\n",
      "conv2d (Conv2D)              (None, 64, 64, 8)         80        \n",
      "_________________________________________________________________\n",
      "activation (Activation)      (None, 64, 64, 8)         0         \n",
      "_________________________________________________________________\n",
      "max_pooling2d (MaxPooling2D) (None, 32, 32, 8)         0         \n",
      "_________________________________________________________________\n",
      "conv2d_1 (Conv2D)            (None, 32, 32, 16)        1168      \n",
      "_________________________________________________________________\n",
      "activation_1 (Activation)    (None, 32, 32, 16)        0         \n",
      "_________________________________________________________________\n",
      "max_pooling2d_1 (MaxPooling2 (None, 16, 16, 16)        0         \n",
      "_________________________________________________________________\n",
      "conv2d_2 (Conv2D)            (None, 16, 16, 32)        4640      \n",
      "_________________________________________________________________\n",
      "activation_2 (Activation)    (None, 16, 16, 32)        0         \n",
      "_________________________________________________________________\n",
      "flatten (Flatten)            (None, 8192)              0         \n",
      "_________________________________________________________________\n",
      "dense (Dense)                (None, 15)                122895    \n",
      "=================================================================\n",
      "Total params: 128,783\n",
      "Trainable params: 128,783\n",
      "Non-trainable params: 0\n",
      "_________________________________________________________________\n",
      "Model summary after compiling\n",
      "Model: \"sequential\"\n",
      "_________________________________________________________________\n",
      "Layer (type)                 Output Shape              Param #   \n",
      "=================================================================\n",
      "conv2d (Conv2D)              (None, 64, 64, 8)         80        \n",
      "_________________________________________________________________\n",
      "activation (Activation)      (None, 64, 64, 8)         0         \n",
      "_________________________________________________________________\n",
      "max_pooling2d (MaxPooling2D) (None, 32, 32, 8)         0         \n",
      "_________________________________________________________________\n",
      "conv2d_1 (Conv2D)            (None, 32, 32, 16)        1168      \n",
      "_________________________________________________________________\n",
      "activation_1 (Activation)    (None, 32, 32, 16)        0         \n",
      "_________________________________________________________________\n",
      "max_pooling2d_1 (MaxPooling2 (None, 16, 16, 16)        0         \n",
      "_________________________________________________________________\n",
      "conv2d_2 (Conv2D)            (None, 16, 16, 32)        4640      \n",
      "_________________________________________________________________\n",
      "activation_2 (Activation)    (None, 16, 16, 32)        0         \n",
      "_________________________________________________________________\n",
      "flatten (Flatten)            (None, 8192)              0         \n",
      "_________________________________________________________________\n",
      "dense (Dense)                (None, 15)                122895    \n",
      "=================================================================\n",
      "Total params: 128,783\n",
      "Trainable params: 128,783\n",
      "Non-trainable params: 0\n",
      "_________________________________________________________________\n"
     ]
    }
   ],
   "source": [
    "#creazione del modello vero e porprio\n",
    "base_model = Sequential([\n",
    "    Conv2D(8, 3,strides=1, padding='same',input_shape=(64,64,1)),\n",
    "    Activation('relu'),\n",
    "    MaxPooling2D(pool_size=2,strides=2),\n",
    "    Conv2D(16, 3,strides=1, padding='same'),\n",
    "    Activation('relu'),\n",
    "    MaxPooling2D(pool_size=2,strides=2),\n",
    "    Conv2D(32, 3,strides=1, padding='same'),\n",
    "    Activation('relu'),\n",
    "    Flatten(),\n",
    "    #set the initial bias values to 0\n",
    "    Dense(num_classes, activation='softmax',kernel_initializer=norm, bias_initializer='zeros')\n",
    "])\n",
    "print(\"Model summary\")\n",
    "base_model.summary()\n",
    "#recompile the model (teoricamente non credo ci sia di bisogno perché aggiungiamo\n",
    "# tutti i layers direttamente sul sequential, ma nel dubbio lo faccio)\n",
    "base_model.compile(loss='categorical_crossentropy', optimizer=stochastic_gradient, metrics = ['accuracy'])\n",
    "print(\"Model summary after compiling\")\n",
    "base_model.summary()"
   ]
  },
  {
   "cell_type": "markdown",
   "metadata": {},
   "source": [
    "Training and visualizzation of values\n"
   ]
  },
  {
   "cell_type": "code",
   "execution_count": 13,
   "metadata": {
    "scrolled": true
   },
   "outputs": [
    {
     "name": "stdout",
     "output_type": "stream",
     "text": [
      "Epoch 1/100\n",
      "40/40 [==============================] - 3s 62ms/step - loss: 2.7074 - accuracy: 0.0789 - val_loss: 2.6610 - val_accuracy: 0.1289\n",
      "Epoch 2/100\n",
      "40/40 [==============================] - 1s 30ms/step - loss: 2.6191 - accuracy: 0.1563 - val_loss: 2.4773 - val_accuracy: 0.1778\n",
      "Epoch 3/100\n",
      "40/40 [==============================] - 1s 31ms/step - loss: 2.3584 - accuracy: 0.2502 - val_loss: 2.4301 - val_accuracy: 0.2800\n",
      "Epoch 4/100\n",
      "40/40 [==============================] - 1s 30ms/step - loss: 2.2193 - accuracy: 0.3270 - val_loss: 2.2963 - val_accuracy: 0.2978\n",
      "Epoch 5/100\n",
      "40/40 [==============================] - 1s 32ms/step - loss: 1.8379 - accuracy: 0.4216 - val_loss: 2.0091 - val_accuracy: 0.3556\n",
      "Epoch 6/100\n",
      "40/40 [==============================] - 1s 32ms/step - loss: 1.5462 - accuracy: 0.5112 - val_loss: 2.0800 - val_accuracy: 0.3556\n",
      "Epoch 7/100\n",
      "40/40 [==============================] - 1s 31ms/step - loss: 1.1018 - accuracy: 0.6466 - val_loss: 2.1693 - val_accuracy: 0.3778\n",
      "Epoch 8/100\n",
      "40/40 [==============================] - 1s 31ms/step - loss: 0.7401 - accuracy: 0.7726 - val_loss: 2.4399 - val_accuracy: 0.3422\n",
      "Epoch 9/100\n",
      "40/40 [==============================] - 1s 32ms/step - loss: 0.4983 - accuracy: 0.8564 - val_loss: 2.9159 - val_accuracy: 0.3244\n",
      "Epoch 10/100\n",
      "40/40 [==============================] - 1s 31ms/step - loss: 0.2772 - accuracy: 0.9276 - val_loss: 3.0934 - val_accuracy: 0.3600\n",
      "Epoch 11/100\n",
      "40/40 [==============================] - 1s 32ms/step - loss: 0.1805 - accuracy: 0.9442 - val_loss: 3.6627 - val_accuracy: 0.3511\n",
      "Epoch 12/100\n",
      "40/40 [==============================] - 1s 32ms/step - loss: 0.1020 - accuracy: 0.9717 - val_loss: 3.8229 - val_accuracy: 0.3867\n",
      "Epoch 13/100\n",
      "40/40 [==============================] - 1s 31ms/step - loss: 0.0663 - accuracy: 0.9899 - val_loss: 5.0616 - val_accuracy: 0.3600\n",
      "Epoch 14/100\n",
      "40/40 [==============================] - 1s 32ms/step - loss: 0.0704 - accuracy: 0.9795 - val_loss: 4.8036 - val_accuracy: 0.3467\n",
      "Epoch 15/100\n",
      "40/40 [==============================] - 1s 31ms/step - loss: 0.0234 - accuracy: 0.9967 - val_loss: 4.9429 - val_accuracy: 0.3867\n"
     ]
    }
   ],
   "source": [
    "#keras.EarlyStopping = to stop training quando una meterica non mostra miglioramento \n",
    "es = EarlyStopping(monitor='val_loss', patience=10,min_delta=0.10)\n",
    "batch_sz = 32 #number of samples for feed the network\n",
    "#Train la cnn costruita precedentemente\n",
    "#x = input data, y = target data, banch size = Number of samples per gradient update\n",
    "#epochs = Number of epochs to train the model\n",
    "#callbacks = List of callbacks to apply during training\n",
    "#validation_data = Data on which to evaluate the loss and any model metrics at the end of each epoch\n",
    "#shuffle = shuffle the training data before each epoch\n",
    "\n",
    "base_history = base_model.fit(\n",
    "    X_train,\n",
    "    y_train,\n",
    "    batch_size = batch_sz,\n",
    "    epochs=100,\n",
    "    validation_data=(X_validation, y_validation),\n",
    "    shuffle=True,\n",
    "    callbacks=[es]\n",
    ")"
   ]
  },
  {
   "cell_type": "code",
   "execution_count": 14,
   "metadata": {},
   "outputs": [
    {
     "data": {
      "image/png": "[encoded data removed]",
      "text/plain": [
       "<Figure size 576x576 with 2 Axes>"
      ]
     },
     "metadata": {
      "needs_background": "light"
     },
     "output_type": "display_data"
    }
   ],
   "source": [
    "#add some graph use some function\n",
    "acc = base_history.history['accuracy']\n",
    "val_acc = base_history.history['val_accuracy']\n",
    "loss = base_history.history['loss']\n",
    "val_loss = base_history.history['val_loss']\n",
    "ranges=range(len(acc))\n",
    "\n",
    "#some plot\n",
    "plt.figure(figsize=(8, 8))\n",
    "plt.subplot(1, 2, 1)\n",
    "plt.plot(ranges, acc, label='Training Accuracy')\n",
    "plt.plot(ranges, val_acc, label='Validation Accuracy')\n",
    "plt.legend(loc='lower right')\n",
    "plt.title('Training and Validation Accuracy')\n",
    "\n",
    "plt.subplot(1, 2, 2)\n",
    "plt.plot(ranges, loss, label='Training Loss')\n",
    "plt.plot(ranges, val_loss, label='Validation Loss')\n",
    "plt.legend(loc='upper right')\n",
    "plt.title('Training and Validation Loss')\n",
    "plt.show()"
   ]
  },
  {
   "cell_type": "markdown",
   "metadata": {},
   "source": [
    "Valutazione del modello utilizzando la libreria"
   ]
  },
  {
   "cell_type": "code",
   "execution_count": 15,
   "metadata": {
    "scrolled": true
   },
   "outputs": [
    {
     "name": "stdout",
     "output_type": "stream",
     "text": [
      "94/94 [==============================] - 1s 8ms/step - loss: 4.5635 - accuracy: 0.3893\n",
      "loss: 4.56\n",
      "accuracy: 0.39\n"
     ]
    }
   ],
   "source": [
    "base_loss, base_accuracy = base_model.evaluate(X_test,y_test_one_hot)\n",
    "print(\"loss: {:.2f}\".format(base_loss))\n",
    "print(\"accuracy: {:.2f}\".format(base_accuracy))\n"
   ]
  },
  {
   "cell_type": "code",
   "execution_count": 18,
   "metadata": {},
   "outputs": [
    {
     "name": "stdout",
     "output_type": "stream",
     "text": [
      "94/94 [==============================] - 1s 8ms/step\n"
     ]
    }
   ],
   "source": [
    "#predict\n",
    "\n",
    "# https://androidkt.com/get-class-labels-from-predict-method-in-keras/#:~:text=in%20an%20image.-,model.,a%20dog%20or%20a%20cat).\n",
    "#from multiclass classification\n",
    "#predict_classes = X, batch_size=32, verbose=0\n",
    "#Generate class predictions for the input samples and return a numpy array\n",
    "#of class predictions\n",
    "#Siccome l'hanno rimossa perché vecchia è necessaro seguire un altro metodo\n",
    "#per ottenere il risultato a noi interessato -> guardare il link\n",
    "#y_pred_base = base_model.predict_classes(X_test) #is deprecated and removed so\n",
    "#use other funciont\n",
    "\n"
   ]
  },
  {
   "cell_type": "code",
   "execution_count": null,
   "metadata": {},
   "outputs": [],
   "source": []
  }
 ],
 "metadata": {
  "kernelspec": {
   "display_name": "Python 3",
   "language": "python",
   "name": "python3"
  },
  "language_info": {
   "codemirror_mode": {
    "name": "ipython",
    "version": 3
   },
   "file_extension": ".py",
   "mimetype": "text/x-python",
   "name": "python",
   "nbconvert_exporter": "python",
   "pygments_lexer": "ipython3",
   "version": "3.8.5"
  }
 },
 "nbformat": 4,
 "nbformat_minor": 4
}
