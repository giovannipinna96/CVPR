{
 "cells": [
  {
   "cell_type": "markdown",
   "metadata": {},
   "source": [
    "Importo tutte le librerie necessarie"
   ]
  },
  {
   "cell_type": "code",
   "execution_count": 1,
   "metadata": {},
   "outputs": [],
   "source": [
    "#Queste dovrebbero essere tutte le librerie necessarie\n",
    "\n",
    "import numpy as np\n",
    "import os\n",
    "import glob\n",
    "import cv2 as cv2 #openCV library\n",
    "\n",
    "import keras as ks #cnn library\n",
    "#Some functionality\n",
    "from keras.models import Sequential #to create a model with layer\n",
    "#function for model creation\n",
    "from keras.layers import Dense, Conv2D, Flatten, MaxPooling2D, Activation\n",
    "from keras.callbacks import EarlyStopping #to stop training\n",
    "from sklearn.model_selection import train_test_split #to split train set\n",
    "from keras.utils import to_categorical #for create a categorical image\n",
    "\n",
    "#to plot some results\n",
    "import matplotlib.pyplot as plt\n",
    "from sklearn.metrics import classification_report, confusion_matrix\n",
    "import tensorflow as tf #For cnn\n",
    "import seaborn as sn\n",
    "\n",
    "\n",
    "#import os\n",
    "#import glob\n",
    "#import cv2 as cv2\n",
    "#import numpy as np\n",
    "#import pandas as pd\n",
    "#import matplotlib.pyplot as plt; \n",
    "#import PIL\n",
    "#import itertools\n",
    "\n",
    "\n",
    "#import keras as ks\n",
    "#from sklearn.metrics import confusion_matrix, accuracy_score\n",
    "#from sklearn.model_selection import train_test_split\n",
    "\n",
    "#from keras.utils import to_categorical, np_utils\n",
    "\n",
    "#from keras.models import Sequential\n",
    "#from keras.applications import VGG16\n",
    "#from keras.applications import imagenet_utils\n",
    "#from keras.callbacks import ModelCheckpoint. EarlyStopping\n",
    "#from keras.preprocessing.image import load_img\n",
    "#from keras.preprocessing.image import img_to_array\n",
    "#from keras.layers import Dense, Conv2D, MaxPooling2D, Dropout, Activation\n",
    "#from keras.layers import Flatten, GlobalAveragePooling2D\n",
    "\n",
    "#import time\n",
    "\n",
    "\n",
    "\n",
    "#from sklearn.svm import SVC\n",
    "\n",
    "#import warnings \n",
    "#warnings.filterwarnings('ignore')"
   ]
  },
  {
   "cell_type": "markdown",
   "metadata": {},
   "source": [
    "Definisco la funzione per prelevare le immagini e creare il dataset\n"
   ]
  },
  {
   "cell_type": "code",
   "execution_count": 2,
   "metadata": {},
   "outputs": [],
   "source": [
    "def read_image_from(path, label):\n",
    "    y = [] #type of image\n",
    "    x = [] #image\n",
    "\n",
    "    for idx, i in enumerate(label):\n",
    "        for im in glob.glob(path + '/' + i + '/*.jpg', recursive=True):\n",
    "            # color conversion to black and white images\n",
    "            x.append(cv2.cvtColor(cv2.imread(im), cv2.COLOR_BGR2GRAY))\n",
    "            y.append(idx)\n",
    "\n",
    "    return x, y"
   ]
  },
  {
   "cell_type": "code",
   "execution_count": 3,
   "metadata": {},
   "outputs": [],
   "source": [
    "def reshape_image(x, width, height, channel):\n",
    "    # Using anisotropic rescaling, resize the images to 64x64 in order to feed them to the network\n",
    "    x = np.array([cv2.resize(im, (width, height), interpolation=cv2.INTER_AREA) for im in x])\n",
    "    x = np.array([np.reshape(im, (width, height, channel)) for im in x]) #per rendere l'array nuovamente conitnuo\n",
    "\n",
    "    # normalize the images\n",
    "    x = x / 255\n",
    "\n",
    "    return x"
   ]
  },
  {
   "cell_type": "markdown",
   "metadata": {},
   "source": [
    "Inizio a creare le variabili di lavoro"
   ]
  },
  {
   "cell_type": "code",
   "execution_count": 4,
   "metadata": {},
   "outputs": [
    {
     "name": "stdout",
     "output_type": "stream",
     "text": [
      "Classes number are:  15\n",
      "Class names:  ['Bedroom', 'Coast', 'Forest', 'Highway', 'Industrial', 'InsideCity', 'Kitchen', 'LivingRoom', 'Mountain', 'Office', 'OpenCountry', 'Store', 'Street', 'Suburb', 'TallBuilding']\n"
     ]
    }
   ],
   "source": [
    "#path to the directories [Adriano]\n",
    "PATH_TRAIN=r'C:\\Users\\adria\\Desktop\\CVPR\\Imageset\\train'\n",
    "PATH_TEST=r'C:\\Users\\adria\\Desktop\\CVPR\\Imageset\\test'\n",
    "\n",
    "#path to the directories [Giovanni]\n",
    "#PATH_TRAIN=r'C:\\Users\\adria\\Desktop\\CVPR\\Imageset\\train'\n",
    "#PATH_TEST=r'C:\\Users\\adria\\Desktop\\CVPR\\Imageset\\tes'\n",
    "\n",
    "#array of the class\n",
    "labels=[os.path.basename(i) for i in glob.glob(PATH_TRAIN + '/*', recursive=True)]\n",
    "num_classes = len(labels) #15\n",
    "print(\"Classes number are: \", num_classes)\n",
    "print(\"Class names: \", labels)\n",
    "#all labels are correct"
   ]
  },
  {
   "cell_type": "code",
   "execution_count": 5,
   "metadata": {},
   "outputs": [
    {
     "name": "stdout",
     "output_type": "stream",
     "text": [
      "Image Dimensions :  (200, 276)\n",
      "len train x:  1500\n",
      "len test x:  2985\n",
      "len train y:  1500\n",
      "len test y:  2985\n"
     ]
    }
   ],
   "source": [
    "X_train_raw, y_train_raw = read_image_from(PATH_TRAIN, labels) #get train dataset\n",
    "X_test, y_test = read_image_from(PATH_TEST, labels) #get test dataset \n",
    "print('Image Dimensions : ',X_test[0].shape)\n",
    "print('len train x: ',len(X_train_raw))\n",
    "print('len test x: ',len(X_test))\n",
    "print('len train y: ',len(y_train_raw))\n",
    "print('len test y: ',len(y_test))"
   ]
  },
  {
   "cell_type": "code",
   "execution_count": 6,
   "metadata": {},
   "outputs": [],
   "source": [
    "#test if the images has been read\n",
    "cv2.imshow(\"Immagine iniziale\", X_train_raw[0])\n",
    "#without this command the imageshow crash\n",
    "cv2.waitKey(0)\n",
    "cv2.destroyAllWindows() "
   ]
  },
  {
   "cell_type": "markdown",
   "metadata": {},
   "source": [
    "Asintropic reduction of images"
   ]
  },
  {
   "cell_type": "code",
   "execution_count": 7,
   "metadata": {},
   "outputs": [
    {
     "name": "stdout",
     "output_type": "stream",
     "text": [
      "Reshaped image\n"
     ]
    }
   ],
   "source": [
    "X_train_raw = reshape_image(X_train_raw, width = 64, height = 64, channel = 1)\n",
    "X_test = reshape_image(X_test, width = 64, height = 64, channel = 1)\n",
    "print(\"Reshaped image\")"
   ]
  },
  {
   "cell_type": "code",
   "execution_count": 8,
   "metadata": {},
   "outputs": [
    {
     "name": "stdout",
     "output_type": "stream",
     "text": [
      "Now y is:  [[1. 0. 0. ... 0. 0. 0.]\n",
      " [1. 0. 0. ... 0. 0. 0.]\n",
      " [1. 0. 0. ... 0. 0. 0.]\n",
      " ...\n",
      " [0. 0. 0. ... 0. 0. 1.]\n",
      " [0. 0. 0. ... 0. 0. 1.]\n",
      " [0. 0. 0. ... 0. 0. 1.]]\n"
     ]
    }
   ],
   "source": [
    "#keras functionality \n",
    "y_train_one_hot = to_categorical(y_train_raw) #from vector to binary class matrix\n",
    "y_test_one_hot = to_categorical(y_test)\n",
    "print(\"Now y is: \", y_train_one_hot)"
   ]
  },
  {
   "cell_type": "markdown",
   "metadata": {},
   "source": [
    "Create a new dataset"
   ]
  },
  {
   "cell_type": "code",
   "execution_count": 9,
   "metadata": {},
   "outputs": [
    {
     "name": "stdout",
     "output_type": "stream",
     "text": [
      "Train set dimintion:  1275\n",
      "Validation set dimintion:  225\n",
      "Test set dimintion:  2985\n"
     ]
    }
   ],
   "source": [
    "#using sklearn.model function to split training set between train 85% and validation set 15%\n",
    "X_train, X_validation, y_train, y_validation = train_test_split(\n",
    "    X_train_raw, y_train_one_hot, train_size=0.85, random_state=42)\n",
    "print('Train set dimintion: ',len(X_train))\n",
    "print('Validation set dimintion: ',len(X_validation))\n",
    "print('Test set dimintion: ',len(X_test))"
   ]
  },
  {
   "cell_type": "markdown",
   "metadata": {},
   "source": [
    "Model Definition and Model Training"
   ]
  },
  {
   "cell_type": "code",
   "execution_count": 10,
   "metadata": {},
   "outputs": [],
   "source": [
    "#necessario randomizzare, ottimizzare, creare il modello con sequential \n",
    "#ed inserire le vaire matrici di convoluzione\n",
    "\n",
    "#keras.initializers.RandomNormal = inizializza e genera un tensor con distribuuzione normale\n",
    "#      -mean, standard deviation, seed\n",
    "\n",
    "#keras.optimizers.SGD = Crea un gradiente discendente ottimizzato\n",
    "#      -learning_rate, momento = accellerazione della discesa, \n",
    "#      -nasterov = valore per il momento, nome = nome opzionale per il gradiente\n",
    "#      -**kwargss = parole chiavi per gli argomenti\n",
    "\n",
    "#keras.Sequential() = ragruppa i layers in un modello, possiamo inserire una\n",
    "#   lista di layer al proprio interno o utilizzare la funzione .add. Possiamo\n",
    "#   assegnare un nome al modello\n",
    "#mkeras.model.compile = dal gruppo di layer in un oggetto\n",
    "\n",
    "\n",
    "#For Sequential model we need:\n",
    "#-Conv2D = for convolution layer. This layer creates a convolution kernel \n",
    "#     that is convolved with the layer input to produce a tensor of output. \n",
    "#     For use it we need a resharp of images\n",
    "#\n",
    "#-MaxPooling2D = downsamples the input representation by taking the maximum value \n",
    "#     over the window defined by pool_size.\n",
    "\n"
   ]
  },
  {
   "cell_type": "code",
   "execution_count": 11,
   "metadata": {},
   "outputs": [],
   "source": [
    "#normalizzazione e ottimizzazione del modello\n",
    "norm = ks.initializers.RandomNormal(mean=0.0, stddev=0.01, seed=None)\n",
    "stochastic_gradient = ks.optimizers.SGD(momentum=0.9, nesterov=True)"
   ]
  },
  {
   "cell_type": "code",
   "execution_count": 12,
   "metadata": {},
   "outputs": [],
   "source": [
    "#creazione del modello vero e porprio\n",
    "base_model = Sequential([\n",
    "    Conv2D(8, 3,strides=1, padding='same',input_shape=(64,64,1)),\n",
    "    Activation('relu'),\n",
    "    MaxPooling2D(pool_size=2,strides=2),\n",
    "    Conv2D(16, 3,strides=1, padding='same'),\n",
    "    Activation('relu'),\n",
    "    MaxPooling2D(pool_size=2,strides=2),\n",
    "    Conv2D(32, 3,strides=1, padding='same'),\n",
    "    Activation('relu'),\n",
    "    Flatten(),\n",
    "    #set the initial bias values to 0\n",
    "    Dense(num_classes, activation='softmax',kernel_initializer=norm, bias_initializer='zeros')\n",
    "])\n",
    "\n",
    "#compilazione del modello\n",
    "base_model.compile(loss='categorical_crossentropy', optimizer=stochastic_gradient, metrics = ['accuracy'])"
   ]
  },
  {
   "cell_type": "markdown",
   "metadata": {},
   "source": [
    "Training and visualizzation of values\n"
   ]
  },
  {
   "cell_type": "code",
   "execution_count": 13,
   "metadata": {},
   "outputs": [],
   "source": [
    "#keras.EarlyStopping = to stop training quando una meterica non mostra miglioramento \n"
   ]
  },
  {
   "cell_type": "code",
   "execution_count": null,
   "metadata": {},
   "outputs": [],
   "source": []
  }
 ],
 "metadata": {
  "kernelspec": {
   "display_name": "Python 3",
   "language": "python",
   "name": "python3"
  },
  "language_info": {
   "codemirror_mode": {
    "name": "ipython",
    "version": 3
   },
   "file_extension": ".py",
   "mimetype": "text/x-python",
   "name": "python",
   "nbconvert_exporter": "python",
   "pygments_lexer": "ipython3",
   "version": "3.8.5"
  }
 },
 "nbformat": 4,
 "nbformat_minor": 4
}
